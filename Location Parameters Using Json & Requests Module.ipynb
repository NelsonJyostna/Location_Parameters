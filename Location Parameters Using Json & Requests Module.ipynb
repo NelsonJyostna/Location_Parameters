{
 "cells": [
  {
   "cell_type": "code",
   "execution_count": 4,
   "metadata": {},
   "outputs": [
    {
     "name": "stdout",
     "output_type": "stream",
     "text": [
      "{\n",
      "    \"ip\": \"203.192.244.53\",\n",
      "    \"is_eu\": false,\n",
      "    \"city\": \"Mumbai\",\n",
      "    \"region\": \"Maharashtra\",\n",
      "    \"region_code\": \"MH\",\n",
      "    \"country_name\": \"India\",\n",
      "    \"country_code\": \"IN\",\n",
      "    \"continent_name\": \"Asia\",\n",
      "    \"continent_code\": \"AS\",\n",
      "    \"latitude\": 19.0748,\n",
      "    \"longitude\": 72.8856,\n",
      "    \"postal\": \"400078\",\n",
      "    \"calling_code\": \"91\",\n",
      "    \"flag\": \"https://ipdata.co/flags/in.png\",\n",
      "    \"emoji_flag\": \"\\ud83c\\uddee\\ud83c\\uddf3\",\n",
      "    \"emoji_unicode\": \"U+1F1EE U+1F1F3\",\n",
      "    \"asn\": {\n",
      "        \"asn\": \"AS17665\",\n",
      "        \"name\": \"AS Number of Indusind Media and communication Ltd.\",\n",
      "        \"domain\": \"indigital.co.in\",\n",
      "        \"route\": \"203.192.244.0/24\",\n",
      "        \"type\": \"isp\"\n",
      "    },\n",
      "    \"languages\": [\n",
      "        {\n",
      "            \"name\": \"Hindi\",\n",
      "            \"native\": \"\\u0939\\u093f\\u0928\\u094d\\u0926\\u0940\"\n",
      "        },\n",
      "        {\n",
      "            \"name\": \"English\",\n",
      "            \"native\": \"English\"\n",
      "        }\n",
      "    ],\n",
      "    \"currency\": {\n",
      "        \"name\": \"Indian Rupee\",\n",
      "        \"code\": \"INR\",\n",
      "        \"symbol\": \"Rs\",\n",
      "        \"native\": \"\\u099f\\u0995\\u09be\",\n",
      "        \"plural\": \"Indian rupees\"\n",
      "    },\n",
      "    \"time_zone\": {\n",
      "        \"name\": \"Asia/Kolkata\",\n",
      "        \"abbr\": \"IST\",\n",
      "        \"offset\": \"+0530\",\n",
      "        \"is_dst\": false,\n",
      "        \"current_time\": \"2020-07-29T21:52:22.879625+05:30\"\n",
      "    },\n",
      "    \"threat\": {\n",
      "        \"is_tor\": false,\n",
      "        \"is_proxy\": false,\n",
      "        \"is_anonymous\": false,\n",
      "        \"is_known_attacker\": false,\n",
      "        \"is_known_abuser\": false,\n",
      "        \"is_threat\": false,\n",
      "        \"is_bogon\": false\n",
      "    },\n",
      "    \"count\": \"1533\"\n",
      "}\n"
     ]
    }
   ],
   "source": [
    "import requests\n",
    "r = requests.get('https://api.ipdata.co?api-key=test')\n",
    "#r['country_name']\n",
    "print(r.text)"
   ]
  },
  {
   "cell_type": "code",
   "execution_count": 2,
   "metadata": {},
   "outputs": [
    {
     "name": "stdout",
     "output_type": "stream",
     "text": [
      "{\n",
      "  \"ip\": \"203.192.244.53\",\n",
      "  \"hostname\": \"dhcp-192-244-53.in2cable.com\",\n",
      "  \"city\": \"Mumbai\",\n",
      "  \"region\": \"Maharashtra\",\n",
      "  \"country\": \"IN\",\n",
      "  \"loc\": \"19.0728,72.8826\",\n",
      "  \"org\": \"AS17665 AS Number of Indusind Media and communication Ltd.\",\n",
      "  \"postal\": \"400070\",\n",
      "  \"timezone\": \"Asia/Kolkata\",\n",
      "  \"readme\": \"https://ipinfo.io/missingauth\"\n",
      "}\n",
      "{'ip': '203.192.244.53', 'hostname': 'dhcp-192-244-53.in2cable.com', 'city': 'Mumbai', 'region': 'Maharashtra', 'country': 'IN', 'loc': '19.0728,72.8826', 'org': 'AS17665 AS Number of Indusind Media and communication Ltd.', 'postal': '400070', 'timezone': 'Asia/Kolkata', 'readme': 'https://ipinfo.io/missingauth'}\n"
     ]
    }
   ],
   "source": [
    "import requests\n",
    "res = requests.get(' https://ipinfo.io/')\n",
    "data=res.json()\n",
    "print(res.text)\n",
    "print(data)"
   ]
  },
  {
   "cell_type": "code",
   "execution_count": null,
   "metadata": {},
   "outputs": [],
   "source": []
  }
 ],
 "metadata": {
  "kernelspec": {
   "display_name": "Python 3",
   "language": "python",
   "name": "python3"
  },
  "language_info": {
   "codemirror_mode": {
    "name": "ipython",
    "version": 3
   },
   "file_extension": ".py",
   "mimetype": "text/x-python",
   "name": "python",
   "nbconvert_exporter": "python",
   "pygments_lexer": "ipython3",
   "version": "3.7.4"
  }
 },
 "nbformat": 4,
 "nbformat_minor": 2
}
